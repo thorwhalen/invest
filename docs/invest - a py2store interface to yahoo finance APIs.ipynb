{
 "cells": [
  {
   "cell_type": "markdown",
   "metadata": {
    "toc": true
   },
   "source": [
    "<h1>Table of Contents<span class=\"tocSkip\"></span></h1>\n",
    "<div class=\"toc\"><ul class=\"toc-item\"><li><span><a href=\"#Examples\" data-toc-modified-id=\"Examples-1\"><span class=\"toc-item-num\">1&nbsp;&nbsp;</span>Examples</a></span><ul class=\"toc-item\"><li><span><a href=\"#ticker_symbols-argument\" data-toc-modified-id=\"ticker_symbols-argument-1.1\"><span class=\"toc-item-num\">1.1&nbsp;&nbsp;</span>ticker_symbols argument</a></span></li><li><span><a href=\"#Notes\" data-toc-modified-id=\"Notes-1.2\"><span class=\"toc-item-num\">1.2&nbsp;&nbsp;</span>Notes</a></span></li></ul></li><li><span><a href=\"#Configuring-Ticker-objects\" data-toc-modified-id=\"Configuring-Ticker-objects-2\"><span class=\"toc-item-num\">2&nbsp;&nbsp;</span>Configuring Ticker objects</a></span><ul class=\"toc-item\"><li><span><a href=\"#Configure-a-Ticker-instance\" data-toc-modified-id=\"Configure-a-Ticker-instance-2.1\"><span class=\"toc-item-num\">2.1&nbsp;&nbsp;</span>Configure a Ticker instance</a></span></li><li><span><a href=\"#Example\" data-toc-modified-id=\"Example-2.2\"><span class=\"toc-item-num\">2.2&nbsp;&nbsp;</span>Example</a></span></li><li><span><a href=\"#Configure-a-Tickers-instance\" data-toc-modified-id=\"Configure-a-Tickers-instance-2.3\"><span class=\"toc-item-num\">2.3&nbsp;&nbsp;</span>Configure a Tickers instance</a></span></li></ul></li><li><span><a href=\"#Getting-(only)-specific-information-about-tickers\" data-toc-modified-id=\"Getting-(only)-specific-information-about-tickers-3\"><span class=\"toc-item-num\">3&nbsp;&nbsp;</span>Getting (only) specific information about tickers</a></span><ul class=\"toc-item\"><li><span><a href=\"#Example:-Historical-data\" data-toc-modified-id=\"Example:-Historical-data-3.1\"><span class=\"toc-item-num\">3.1&nbsp;&nbsp;</span>Example: Historical data</a></span></li><li><span><a href=\"#Example:-Specific-'info'-fields\" data-toc-modified-id=\"Example:-Specific-'info'-fields-3.2\"><span class=\"toc-item-num\">3.2&nbsp;&nbsp;</span>Example: Specific <code>'info'</code> fields</a></span></li></ul></li><li><span><a href=\"#Notes\" data-toc-modified-id=\"Notes-4\"><span class=\"toc-item-num\">4&nbsp;&nbsp;</span>Notes</a></span></li></ul></div>"
   ]
  },
  {
   "cell_type": "markdown",
   "metadata": {},
   "source": [
    "# Examples"
   ]
  },
  {
   "cell_type": "code",
   "execution_count": 1,
   "metadata": {
    "ExecuteTime": {
     "end_time": "2020-11-28T22:45:13.742569Z",
     "start_time": "2020-11-28T22:45:13.058348Z"
    }
   },
   "outputs": [],
   "source": [
    "from invest import Tickers"
   ]
  },
  {
   "cell_type": "markdown",
   "metadata": {},
   "source": [
    "Get a default list of tickers"
   ]
  },
  {
   "cell_type": "code",
   "execution_count": 2,
   "metadata": {
    "ExecuteTime": {
     "end_time": "2020-11-28T22:45:14.965565Z",
     "start_time": "2020-11-28T22:45:14.938065Z"
    }
   },
   "outputs": [],
   "source": [
    "tickers = Tickers()"
   ]
  },
  {
   "cell_type": "markdown",
   "metadata": {},
   "source": [
    "`tickers` is a dict-like container of tickers. So you can do dict-like things with it, like..."
   ]
  },
  {
   "cell_type": "markdown",
   "metadata": {},
   "source": [
    "- ask for it's length"
   ]
  },
  {
   "cell_type": "code",
   "execution_count": 3,
   "metadata": {
    "ExecuteTime": {
     "end_time": "2020-11-28T22:45:16.027926Z",
     "start_time": "2020-11-28T22:45:16.000511Z"
    }
   },
   "outputs": [
    {
     "data": {
      "text/plain": [
       "4039"
      ]
     },
     "execution_count": 3,
     "metadata": {},
     "output_type": "execute_result"
    }
   ],
   "source": [
    "len(tickers)"
   ]
  },
  {
   "cell_type": "markdown",
   "metadata": {},
   "source": [
    "- list the keys"
   ]
  },
  {
   "cell_type": "code",
   "execution_count": 4,
   "metadata": {
    "ExecuteTime": {
     "end_time": "2020-11-28T22:45:17.092295Z",
     "start_time": "2020-11-28T22:45:17.065126Z"
    }
   },
   "outputs": [
    {
     "data": {
      "text/plain": [
       "['EGLE', 'KMPH', 'LONG', 'CYBR', 'PTC']"
      ]
     },
     "execution_count": 4,
     "metadata": {},
     "output_type": "execute_result"
    }
   ],
   "source": [
    "list(tickers)[:5]"
   ]
  },
  {
   "cell_type": "markdown",
   "metadata": {},
   "source": [
    "- check for containment of a key"
   ]
  },
  {
   "cell_type": "code",
   "execution_count": 5,
   "metadata": {
    "ExecuteTime": {
     "end_time": "2020-11-28T22:45:18.162202Z",
     "start_time": "2020-11-28T22:45:18.136707Z"
    }
   },
   "outputs": [
    {
     "data": {
      "text/plain": [
       "True"
      ]
     },
     "execution_count": 5,
     "metadata": {},
     "output_type": "execute_result"
    }
   ],
   "source": [
    "'GOOG' in tickers"
   ]
  },
  {
   "cell_type": "markdown",
   "metadata": {
    "ExecuteTime": {
     "end_time": "2020-11-28T21:15:21.399992Z",
     "start_time": "2020-11-28T21:15:21.364768Z"
    }
   },
   "source": [
    "The values of this dict-like object are `Ticker` instances."
   ]
  },
  {
   "cell_type": "code",
   "execution_count": 19,
   "metadata": {
    "ExecuteTime": {
     "end_time": "2020-11-28T22:51:28.423839Z",
     "start_time": "2020-11-28T22:51:28.389358Z"
    }
   },
   "outputs": [
    {
     "data": {
      "text/plain": [
       "Ticker('GOOG')"
      ]
     },
     "execution_count": 19,
     "metadata": {},
     "output_type": "execute_result"
    }
   ],
   "source": [
    "ticker = tickers['GOOG']\n",
    "ticker"
   ]
  },
  {
   "cell_type": "markdown",
   "metadata": {},
   "source": [
    "This `ticker` object is also dict-like. Let's see how many keys there are:"
   ]
  },
  {
   "cell_type": "code",
   "execution_count": 7,
   "metadata": {
    "ExecuteTime": {
     "end_time": "2020-11-28T22:45:19.965625Z",
     "start_time": "2020-11-28T22:45:19.939024Z"
    }
   },
   "outputs": [
    {
     "data": {
      "text/plain": [
       "40"
      ]
     },
     "execution_count": 7,
     "metadata": {},
     "output_type": "execute_result"
    }
   ],
   "source": [
    "len(ticker)"
   ]
  },
  {
   "cell_type": "markdown",
   "metadata": {},
   "source": [
    "What are these keys?"
   ]
  },
  {
   "cell_type": "code",
   "execution_count": 9,
   "metadata": {
    "ExecuteTime": {
     "end_time": "2020-11-28T21:52:00.914897Z",
     "start_time": "2020-11-28T21:52:00.867292Z"
    }
   },
   "outputs": [
    {
     "data": {
      "text/plain": [
       "['balancesheet',\n",
       " 'dividends',\n",
       " 'get_sustainability',\n",
       " 'get_info',\n",
       " 'get_institutional_holders',\n",
       " 'sustainability',\n",
       " 'quarterly_balance_sheet',\n",
       " 'get_balance_sheet',\n",
       " 'info',\n",
       " 'quarterly_earnings',\n",
       " 'isin',\n",
       " 'earnings',\n",
       " 'history',\n",
       " 'get_balancesheet',\n",
       " 'get_financials',\n",
       " 'balance_sheet',\n",
       " 'get_earnings',\n",
       " 'options',\n",
       " 'splits',\n",
       " 'get_recommendations',\n",
       " 'get_major_holders',\n",
       " 'get_dividends',\n",
       " 'actions',\n",
       " 'recommendations',\n",
       " 'cashflow',\n",
       " 'get_cashflow',\n",
       " 'get_splits',\n",
       " 'major_holders',\n",
       " 'institutional_holders',\n",
       " 'option_chain',\n",
       " 'get_actions',\n",
       " 'quarterly_financials',\n",
       " 'get_calendar',\n",
       " 'quarterly_cashflow',\n",
       " 'calendar',\n",
       " 'financials',\n",
       " 'quarterly_balancesheet',\n",
       " 'get_mutualfund_holders',\n",
       " 'get_isin',\n",
       " 'mutualfund_holders']"
      ]
     },
     "execution_count": 9,
     "metadata": {},
     "output_type": "execute_result"
    }
   ],
   "source": [
    "list(ticker)"
   ]
  },
  {
   "cell_type": "markdown",
   "metadata": {},
   "source": [
    "Let's look at one of these, `'info'`, which contains a dict with a bunch of information about the ticker..."
   ]
  },
  {
   "cell_type": "code",
   "execution_count": 54,
   "metadata": {
    "ExecuteTime": {
     "end_time": "2020-11-28T21:33:49.063415Z",
     "start_time": "2020-11-28T21:33:49.024938Z"
    }
   },
   "outputs": [
    {
     "name": "stdout",
     "output_type": "stream",
     "text": [
      "zip, sector, fullTimeEmployees, longBusinessSummary, city, phone, state, country, companyOfficers, website, maxAge, address1, industry, previousClose, regularMarketOpen, twoHundredDayAverage, trailingAnnualDividendYield, payoutRatio, volume24Hr, regularMarketDayHigh, navPrice, averageDailyVolume10Day, totalAssets, regularMarketPreviousClose, fiftyDayAverage, trailingAnnualDividendRate, open, toCurrency, averageVolume10days, expireDate, yield, algorithm, dividendRate, exDividendDate, beta, circulatingSupply, startDate, regularMarketDayLow, priceHint, currency, trailingPE, regularMarketVolume, lastMarket, maxSupply, openInterest, marketCap, volumeAllCurrencies, strikePrice, averageVolume, priceToSalesTrailing12Months, dayLow, ask, ytdReturn, askSize, volume, fiftyTwoWeekHigh, forwardPE, fromCurrency, fiveYearAvgDividendYield, fiftyTwoWeekLow, bid, tradeable, dividendYield, bidSize, dayHigh, exchange, shortName, longName, exchangeTimezoneName, exchangeTimezoneShortName, isEsgPopulated, gmtOffSetMilliseconds, quoteType, symbol, messageBoardId, market, annualHoldingsTurnover, enterpriseToRevenue, beta3Year, profitMargins, enterpriseToEbitda, 52WeekChange, morningStarRiskRating, forwardEps, revenueQuarterlyGrowth, sharesOutstanding, fundInceptionDate, annualReportExpenseRatio, bookValue, sharesShort, sharesPercentSharesOut, fundFamily, lastFiscalYearEnd, heldPercentInstitutions, netIncomeToCommon, trailingEps, lastDividendValue, SandP52WeekChange, priceToBook, heldPercentInsiders, nextFiscalYearEnd, mostRecentQuarter, shortRatio, sharesShortPreviousMonthDate, floatShares, enterpriseValue, threeYearAverageReturn, lastSplitDate, lastSplitFactor, legalType, lastDividendDate, morningStarOverallRating, earningsQuarterlyGrowth, dateShortInterest, pegRatio, lastCapGain, shortPercentOfFloat, sharesShortPriorMonth, category, fiveYearAverageReturn, regularMarketPrice, logo_url\n"
     ]
    }
   ],
   "source": [
    "info = ticker['info']\n",
    "print(*info, sep=', ')"
   ]
  },
  {
   "cell_type": "code",
   "execution_count": 58,
   "metadata": {
    "ExecuteTime": {
     "end_time": "2020-11-28T21:34:40.889209Z",
     "start_time": "2020-11-28T21:34:40.851919Z"
    }
   },
   "outputs": [
    {
     "data": {
      "text/plain": [
       "'Alphabet Inc.'"
      ]
     },
     "execution_count": 58,
     "metadata": {},
     "output_type": "execute_result"
    }
   ],
   "source": [
    "info['shortName']"
   ]
  },
  {
   "cell_type": "code",
   "execution_count": 59,
   "metadata": {
    "ExecuteTime": {
     "end_time": "2020-11-28T21:34:43.215189Z",
     "start_time": "2020-11-28T21:34:43.180675Z"
    }
   },
   "outputs": [
    {
     "data": {
      "text/plain": [
       "'Communication Services'"
      ]
     },
     "execution_count": 59,
     "metadata": {},
     "output_type": "execute_result"
    }
   ],
   "source": [
    "info['sector']"
   ]
  },
  {
   "cell_type": "code",
   "execution_count": 20,
   "metadata": {
    "ExecuteTime": {
     "end_time": "2020-11-28T22:51:39.267044Z",
     "start_time": "2020-11-28T22:51:34.521465Z"
    }
   },
   "outputs": [
    {
     "data": {
      "text/html": [
       "<div>\n",
       "<style scoped>\n",
       "    .dataframe tbody tr th:only-of-type {\n",
       "        vertical-align: middle;\n",
       "    }\n",
       "\n",
       "    .dataframe tbody tr th {\n",
       "        vertical-align: top;\n",
       "    }\n",
       "\n",
       "    .dataframe thead th {\n",
       "        text-align: right;\n",
       "    }\n",
       "</style>\n",
       "<table border=\"1\" class=\"dataframe\">\n",
       "  <thead>\n",
       "    <tr style=\"text-align: right;\">\n",
       "      <th></th>\n",
       "      <th>Open</th>\n",
       "      <th>High</th>\n",
       "      <th>Low</th>\n",
       "      <th>Close</th>\n",
       "      <th>Volume</th>\n",
       "      <th>Dividends</th>\n",
       "      <th>Stock Splits</th>\n",
       "    </tr>\n",
       "    <tr>\n",
       "      <th>Date</th>\n",
       "      <th></th>\n",
       "      <th></th>\n",
       "      <th></th>\n",
       "      <th></th>\n",
       "      <th></th>\n",
       "      <th></th>\n",
       "      <th></th>\n",
       "    </tr>\n",
       "  </thead>\n",
       "  <tbody>\n",
       "    <tr>\n",
       "      <th>2020-10-28</th>\n",
       "      <td>1559.739990</td>\n",
       "      <td>1561.349976</td>\n",
       "      <td>1514.619995</td>\n",
       "      <td>1516.619995</td>\n",
       "      <td>1834000</td>\n",
       "      <td>0</td>\n",
       "      <td>0</td>\n",
       "    </tr>\n",
       "    <tr>\n",
       "      <th>2020-10-29</th>\n",
       "      <td>1522.359985</td>\n",
       "      <td>1593.709961</td>\n",
       "      <td>1522.239990</td>\n",
       "      <td>1567.239990</td>\n",
       "      <td>2003100</td>\n",
       "      <td>0</td>\n",
       "      <td>0</td>\n",
       "    </tr>\n",
       "    <tr>\n",
       "      <th>2020-10-30</th>\n",
       "      <td>1672.109985</td>\n",
       "      <td>1687.000000</td>\n",
       "      <td>1604.459961</td>\n",
       "      <td>1621.010010</td>\n",
       "      <td>4329100</td>\n",
       "      <td>0</td>\n",
       "      <td>0</td>\n",
       "    </tr>\n",
       "    <tr>\n",
       "      <th>2020-11-02</th>\n",
       "      <td>1628.160034</td>\n",
       "      <td>1660.770020</td>\n",
       "      <td>1616.030029</td>\n",
       "      <td>1626.030029</td>\n",
       "      <td>2535400</td>\n",
       "      <td>0</td>\n",
       "      <td>0</td>\n",
       "    </tr>\n",
       "    <tr>\n",
       "      <th>2020-11-03</th>\n",
       "      <td>1631.780029</td>\n",
       "      <td>1661.699951</td>\n",
       "      <td>1616.619995</td>\n",
       "      <td>1650.209961</td>\n",
       "      <td>1661700</td>\n",
       "      <td>0</td>\n",
       "      <td>0</td>\n",
       "    </tr>\n",
       "    <tr>\n",
       "      <th>2020-11-04</th>\n",
       "      <td>1710.280029</td>\n",
       "      <td>1771.364990</td>\n",
       "      <td>1706.030029</td>\n",
       "      <td>1749.130005</td>\n",
       "      <td>3570900</td>\n",
       "      <td>0</td>\n",
       "      <td>0</td>\n",
       "    </tr>\n",
       "    <tr>\n",
       "      <th>2020-11-05</th>\n",
       "      <td>1781.000000</td>\n",
       "      <td>1793.640015</td>\n",
       "      <td>1750.510010</td>\n",
       "      <td>1763.369995</td>\n",
       "      <td>2065800</td>\n",
       "      <td>0</td>\n",
       "      <td>0</td>\n",
       "    </tr>\n",
       "    <tr>\n",
       "      <th>2020-11-06</th>\n",
       "      <td>1753.949951</td>\n",
       "      <td>1772.430054</td>\n",
       "      <td>1740.349976</td>\n",
       "      <td>1761.750000</td>\n",
       "      <td>1660900</td>\n",
       "      <td>0</td>\n",
       "      <td>0</td>\n",
       "    </tr>\n",
       "    <tr>\n",
       "      <th>2020-11-09</th>\n",
       "      <td>1790.900024</td>\n",
       "      <td>1818.060059</td>\n",
       "      <td>1760.020020</td>\n",
       "      <td>1763.000000</td>\n",
       "      <td>2268300</td>\n",
       "      <td>0</td>\n",
       "      <td>0</td>\n",
       "    </tr>\n",
       "    <tr>\n",
       "      <th>2020-11-10</th>\n",
       "      <td>1731.089966</td>\n",
       "      <td>1763.000000</td>\n",
       "      <td>1717.300049</td>\n",
       "      <td>1740.390015</td>\n",
       "      <td>2636100</td>\n",
       "      <td>0</td>\n",
       "      <td>0</td>\n",
       "    </tr>\n",
       "    <tr>\n",
       "      <th>2020-11-11</th>\n",
       "      <td>1750.000000</td>\n",
       "      <td>1764.219971</td>\n",
       "      <td>1747.364990</td>\n",
       "      <td>1752.709961</td>\n",
       "      <td>1264000</td>\n",
       "      <td>0</td>\n",
       "      <td>0</td>\n",
       "    </tr>\n",
       "    <tr>\n",
       "      <th>2020-11-12</th>\n",
       "      <td>1747.630005</td>\n",
       "      <td>1768.270020</td>\n",
       "      <td>1745.599976</td>\n",
       "      <td>1749.839966</td>\n",
       "      <td>1247500</td>\n",
       "      <td>0</td>\n",
       "      <td>0</td>\n",
       "    </tr>\n",
       "    <tr>\n",
       "      <th>2020-11-13</th>\n",
       "      <td>1757.630005</td>\n",
       "      <td>1781.040039</td>\n",
       "      <td>1744.550049</td>\n",
       "      <td>1777.020020</td>\n",
       "      <td>1499900</td>\n",
       "      <td>0</td>\n",
       "      <td>0</td>\n",
       "    </tr>\n",
       "    <tr>\n",
       "      <th>2020-11-16</th>\n",
       "      <td>1771.699951</td>\n",
       "      <td>1799.069946</td>\n",
       "      <td>1767.689941</td>\n",
       "      <td>1781.380005</td>\n",
       "      <td>1246800</td>\n",
       "      <td>0</td>\n",
       "      <td>0</td>\n",
       "    </tr>\n",
       "    <tr>\n",
       "      <th>2020-11-17</th>\n",
       "      <td>1776.939941</td>\n",
       "      <td>1785.000000</td>\n",
       "      <td>1767.000000</td>\n",
       "      <td>1770.150024</td>\n",
       "      <td>1147100</td>\n",
       "      <td>0</td>\n",
       "      <td>0</td>\n",
       "    </tr>\n",
       "    <tr>\n",
       "      <th>2020-11-18</th>\n",
       "      <td>1765.229980</td>\n",
       "      <td>1773.469971</td>\n",
       "      <td>1746.140015</td>\n",
       "      <td>1746.780029</td>\n",
       "      <td>1173500</td>\n",
       "      <td>0</td>\n",
       "      <td>0</td>\n",
       "    </tr>\n",
       "    <tr>\n",
       "      <th>2020-11-19</th>\n",
       "      <td>1738.380005</td>\n",
       "      <td>1769.589966</td>\n",
       "      <td>1737.005005</td>\n",
       "      <td>1763.920044</td>\n",
       "      <td>1249900</td>\n",
       "      <td>0</td>\n",
       "      <td>0</td>\n",
       "    </tr>\n",
       "    <tr>\n",
       "      <th>2020-11-20</th>\n",
       "      <td>1765.209961</td>\n",
       "      <td>1774.000000</td>\n",
       "      <td>1741.859985</td>\n",
       "      <td>1742.189941</td>\n",
       "      <td>2313500</td>\n",
       "      <td>0</td>\n",
       "      <td>0</td>\n",
       "    </tr>\n",
       "    <tr>\n",
       "      <th>2020-11-23</th>\n",
       "      <td>1749.599976</td>\n",
       "      <td>1753.900024</td>\n",
       "      <td>1717.719971</td>\n",
       "      <td>1734.859985</td>\n",
       "      <td>2161600</td>\n",
       "      <td>0</td>\n",
       "      <td>0</td>\n",
       "    </tr>\n",
       "    <tr>\n",
       "      <th>2020-11-24</th>\n",
       "      <td>1730.500000</td>\n",
       "      <td>1771.599976</td>\n",
       "      <td>1727.689941</td>\n",
       "      <td>1768.880005</td>\n",
       "      <td>1578000</td>\n",
       "      <td>0</td>\n",
       "      <td>0</td>\n",
       "    </tr>\n",
       "    <tr>\n",
       "      <th>2020-11-25</th>\n",
       "      <td>1772.890015</td>\n",
       "      <td>1778.540039</td>\n",
       "      <td>1756.540039</td>\n",
       "      <td>1771.430054</td>\n",
       "      <td>1045800</td>\n",
       "      <td>0</td>\n",
       "      <td>0</td>\n",
       "    </tr>\n",
       "    <tr>\n",
       "      <th>2020-11-27</th>\n",
       "      <td>1773.089966</td>\n",
       "      <td>1804.000000</td>\n",
       "      <td>1772.439941</td>\n",
       "      <td>1793.189941</td>\n",
       "      <td>884900</td>\n",
       "      <td>0</td>\n",
       "      <td>0</td>\n",
       "    </tr>\n",
       "  </tbody>\n",
       "</table>\n",
       "</div>"
      ],
      "text/plain": [
       "                   Open         High          Low        Close   Volume  \\\n",
       "Date                                                                      \n",
       "2020-10-28  1559.739990  1561.349976  1514.619995  1516.619995  1834000   \n",
       "2020-10-29  1522.359985  1593.709961  1522.239990  1567.239990  2003100   \n",
       "2020-10-30  1672.109985  1687.000000  1604.459961  1621.010010  4329100   \n",
       "2020-11-02  1628.160034  1660.770020  1616.030029  1626.030029  2535400   \n",
       "2020-11-03  1631.780029  1661.699951  1616.619995  1650.209961  1661700   \n",
       "2020-11-04  1710.280029  1771.364990  1706.030029  1749.130005  3570900   \n",
       "2020-11-05  1781.000000  1793.640015  1750.510010  1763.369995  2065800   \n",
       "2020-11-06  1753.949951  1772.430054  1740.349976  1761.750000  1660900   \n",
       "2020-11-09  1790.900024  1818.060059  1760.020020  1763.000000  2268300   \n",
       "2020-11-10  1731.089966  1763.000000  1717.300049  1740.390015  2636100   \n",
       "2020-11-11  1750.000000  1764.219971  1747.364990  1752.709961  1264000   \n",
       "2020-11-12  1747.630005  1768.270020  1745.599976  1749.839966  1247500   \n",
       "2020-11-13  1757.630005  1781.040039  1744.550049  1777.020020  1499900   \n",
       "2020-11-16  1771.699951  1799.069946  1767.689941  1781.380005  1246800   \n",
       "2020-11-17  1776.939941  1785.000000  1767.000000  1770.150024  1147100   \n",
       "2020-11-18  1765.229980  1773.469971  1746.140015  1746.780029  1173500   \n",
       "2020-11-19  1738.380005  1769.589966  1737.005005  1763.920044  1249900   \n",
       "2020-11-20  1765.209961  1774.000000  1741.859985  1742.189941  2313500   \n",
       "2020-11-23  1749.599976  1753.900024  1717.719971  1734.859985  2161600   \n",
       "2020-11-24  1730.500000  1771.599976  1727.689941  1768.880005  1578000   \n",
       "2020-11-25  1772.890015  1778.540039  1756.540039  1771.430054  1045800   \n",
       "2020-11-27  1773.089966  1804.000000  1772.439941  1793.189941   884900   \n",
       "\n",
       "            Dividends  Stock Splits  \n",
       "Date                                 \n",
       "2020-10-28          0             0  \n",
       "2020-10-29          0             0  \n",
       "2020-10-30          0             0  \n",
       "2020-11-02          0             0  \n",
       "2020-11-03          0             0  \n",
       "2020-11-04          0             0  \n",
       "2020-11-05          0             0  \n",
       "2020-11-06          0             0  \n",
       "2020-11-09          0             0  \n",
       "2020-11-10          0             0  \n",
       "2020-11-11          0             0  \n",
       "2020-11-12          0             0  \n",
       "2020-11-13          0             0  \n",
       "2020-11-16          0             0  \n",
       "2020-11-17          0             0  \n",
       "2020-11-18          0             0  \n",
       "2020-11-19          0             0  \n",
       "2020-11-20          0             0  \n",
       "2020-11-23          0             0  \n",
       "2020-11-24          0             0  \n",
       "2020-11-25          0             0  \n",
       "2020-11-27          0             0  "
      ]
     },
     "execution_count": 20,
     "metadata": {},
     "output_type": "execute_result"
    }
   ],
   "source": [
    "df = ticker['history']\n",
    "df"
   ]
  },
  {
   "cell_type": "code",
   "execution_count": 21,
   "metadata": {
    "ExecuteTime": {
     "end_time": "2020-11-28T22:51:40.643869Z",
     "start_time": "2020-11-28T22:51:40.449968Z"
    }
   },
   "outputs": [
    {
     "data": {
      "image/png": "[encoded data removed]",
      "text/plain": [
       "<Figure size 800x575 with 2 Axes>"
      ]
     },
     "metadata": {},
     "output_type": "display_data"
    }
   ],
   "source": [
    "from mplfinance import plot as candlestick_plot  # pip install mplfinance if you don't have it already\n",
    "\n",
    "candlestick_plot(df)"
   ]
  },
  {
   "cell_type": "markdown",
   "metadata": {},
   "source": [
    "But these are daily metrics and only for the recent (yes, I'm doing this on a Thanksgiving week-end!) past.\n",
    "\n",
    "How do I get something different? Like a longer history, and/or at a finer time-granularity?\n",
    "\n",
    "See the next _Configuring Ticker objects_ section on how to do that."
   ]
  },
  {
   "cell_type": "markdown",
   "metadata": {},
   "source": [
    "## ticker_symbols argument"
   ]
  },
  {
   "cell_type": "markdown",
   "metadata": {},
   "source": [
    "The first argument of `Tickers` is the `ticker_symbols` argument. \n",
    "\n",
    "One can specify a collection (list, set, tuple, etc.) of ticker symbol strings, or a path to a file containing a pickle of such a collection.\n",
    "\n",
    "The default is the string `'local_list'` which has the effect of using a default list (currently of about 4000 tickers), but it's contents can change in the future. \n",
    "\n",
    "Note that this `ticker_symbols` will have an effect on such affairs as `list(tickers)`, `len(tickers)`, or `s in tickers`, when it's relevant to use these. \n",
    "\n",
    "But any `Tickers` object will allow access to any ticker symbol, regardless if it's in the `ticker_symbols` collection or not."
   ]
  },
  {
   "cell_type": "code",
   "execution_count": 54,
   "metadata": {
    "ExecuteTime": {
     "end_time": "2020-11-28T23:53:41.471989Z",
     "start_time": "2020-11-28T23:53:36.758640Z"
    }
   },
   "outputs": [],
   "source": [
    "tickers = Tickers(ticker_symbols=('GOOG', 'AAPL', 'AMZN'))\n",
    "assert list(tickers) == ['GOOG', 'AAPL', 'AMZN']\n",
    "assert len(tickers) == 3\n",
    "assert 'AAPL' in tickers\n",
    "assert 'NFLX' not in tickers\n",
    "# and yet we have access to NFLX info\n",
    "assert tickers['NFLX']['info']['shortName'] == 'Netflix, Inc.'"
   ]
  },
  {
   "cell_type": "code",
   "execution_count": null,
   "metadata": {},
   "outputs": [],
   "source": []
  },
  {
   "cell_type": "markdown",
   "metadata": {},
   "source": [
    "## Notes"
   ]
  },
  {
   "cell_type": "markdown",
   "metadata": {},
   "source": [
    "- Both `Tickers` and `Ticker` instances have tab-triggered auto-suggestion enabled when you get an item. Example: `tickers['AA<now press the TAB button...>`.\n",
    "- The specification of "
   ]
  },
  {
   "cell_type": "code",
   "execution_count": null,
   "metadata": {},
   "outputs": [],
   "source": []
  },
  {
   "cell_type": "markdown",
   "metadata": {},
   "source": [
    "# Configuring Ticker objects"
   ]
  },
  {
   "cell_type": "markdown",
   "metadata": {},
   "source": [
    "## Configure a Ticker instance"
   ]
  },
  {
   "cell_type": "markdown",
   "metadata": {},
   "source": [
    "You can instantiate a `Ticker` instance directly, from **any valid ticker symbol**. The `Tickers` class is just a way to make a collection of tickers to work with. "
   ]
  },
  {
   "cell_type": "code",
   "execution_count": 8,
   "metadata": {
    "ExecuteTime": {
     "end_time": "2020-11-28T22:45:27.701213Z",
     "start_time": "2020-11-28T22:45:27.666931Z"
    }
   },
   "outputs": [
    {
     "data": {
      "text/plain": [
       "Ticker('GOOG')"
      ]
     },
     "execution_count": 8,
     "metadata": {},
     "output_type": "execute_result"
    }
   ],
   "source": [
    "from invest import Tickers, Ticker\n",
    "\n",
    "ticker = Ticker('GOOG')\n",
    "ticker"
   ]
  },
  {
   "cell_type": "markdown",
   "metadata": {},
   "source": [
    "But you'll notice that `Ticker` (and `Tickers`) have more than one argument. "
   ]
  },
  {
   "cell_type": "code",
   "execution_count": 9,
   "metadata": {
    "ExecuteTime": {
     "end_time": "2020-11-28T22:45:28.361933Z",
     "start_time": "2020-11-28T22:45:28.333595Z"
    }
   },
   "outputs": [
    {
     "name": "stdout",
     "output_type": "stream",
     "text": [
      "(ticker_symbols='local_list', **kwargs_for_method_keys)\n",
      "(ticker_symbol: str, **kwargs_for_method_keys)\n"
     ]
    }
   ],
   "source": [
    "from inspect import signature\n",
    "print(signature(Tickers))\n",
    "print(signature(Ticker))"
   ]
  },
  {
   "cell_type": "markdown",
   "metadata": {},
   "source": [
    "What's this `kwargs_for_method_keys`?\n",
    "\n",
    "Well, at the time of writing this, `Ticker` object is just a convenient dict-like interface to the attributes of the `Ticker` of the `yfinance` package which is itself a convenient python interface to the yahoo finance API. \n",
    "\n",
    "When you do `list(ticker)`, you're just getting a list of attributes of `yfinance.Ticker`: Both properties and methods that don't require any arguments. Though these methods don't require any arguments -- meaning all their arguments have defaults -- you can still specify if you want to use different defaults. \n",
    "\n",
    "That's where `kwargs_for_method_keys` comes in. It specifies what `arg=val` pairs that should be used for particular methods of `yfinance.Ticker`. \n",
    "\n",
    "If you want to know more about what you can do with the `Ticker` object, you might want to check out `yfinance`'s and yahoo finance API's documentation.\n",
    "\n",
    "For the basics though, `invest` provides the `help_me_with` function (as a standalone function or as a method in `Tickers` and `Ticker`) for quick access to essentials."
   ]
  },
  {
   "cell_type": "code",
   "execution_count": 10,
   "metadata": {
    "ExecuteTime": {
     "end_time": "2020-11-28T22:45:29.631416Z",
     "start_time": "2020-11-28T22:45:29.605717Z"
    }
   },
   "outputs": [
    {
     "name": "stdout",
     "output_type": "stream",
     "text": [
      "history\n",
      "wraps <function TickerBase.history at 0x11a064940>, whose signature is:\n",
      "(self, period='1mo', interval='1d', start=None, end=None, prepost=False, actions=True, auto_adjust=True, back_adjust=False, proxy=None, rounding=False, tz=None, **kwargs)\n",
      "\n",
      "        :Parameters:\n",
      "            period : str\n",
      "                Valid periods: 1d,5d,1mo,3mo,6mo,1y,2y,5y,10y,ytd,max\n",
      "                Either Use period parameter or use start and end\n",
      "            interval : str\n",
      "                Valid intervals: 1m,2m,5m,15m,30m,60m,90m,1h,1d,5d,1wk,1mo,3mo\n",
      "                Intraday data cannot extend last 60 days\n",
      "            start: str\n",
      "                Download start date string (YYYY-MM-DD) or _datetime.\n",
      "                Default is 1900-01-01\n",
      "            end: str\n",
      "                Download end date string (YYYY-MM-DD) or _datetime.\n",
      "                Default is now\n",
      "            prepost : bool\n",
      "                Include Pre and Post market data in results?\n",
      "                Default is False\n",
      "            auto_adjust: bool\n",
      "                Adjust all OHLC automatically? Default is True\n",
      "            back_adjust: bool\n",
      "                Back-adjusted data to mimic true historical prices\n",
      "            proxy: str\n",
      "                Optional. Proxy server URL scheme. Default is None\n",
      "            rounding: bool\n",
      "                Round values to 2 decimal places?\n",
      "                Optional. Default is False = precision suggested by Yahoo!\n",
      "            tz: str\n",
      "                Optional timezone locale for dates.\n",
      "                (default data is returned as non-localized dates)\n",
      "            **kwargs: dict\n",
      "                debug: bool\n",
      "                    Optional. If passed as False, will suppress\n",
      "                    error message printing to console.\n",
      "        \n",
      "\n"
     ]
    }
   ],
   "source": [
    "Ticker.help_me_with('history')"
   ]
  },
  {
   "cell_type": "markdown",
   "metadata": {},
   "source": [
    "## Example"
   ]
  },
  {
   "cell_type": "markdown",
   "metadata": {},
   "source": [
    "Here's you can get `history` to give you something different. \n",
    "\n",
    "Say, get data for the last day, with a granularity of 15 minutes."
   ]
  },
  {
   "cell_type": "code",
   "execution_count": 11,
   "metadata": {
    "ExecuteTime": {
     "end_time": "2020-11-28T22:45:31.267818Z",
     "start_time": "2020-11-28T22:45:31.235333Z"
    }
   },
   "outputs": [
    {
     "data": {
      "text/plain": [
       "Ticker('GOOG', history={'period': '1d', 'interval': '15m'})"
      ]
     },
     "execution_count": 11,
     "metadata": {},
     "output_type": "execute_result"
    }
   ],
   "source": [
    "ticker = Ticker('GOOG', history=dict(period='1d', interval='15m'))\n",
    "ticker"
   ]
  },
  {
   "cell_type": "markdown",
   "metadata": {},
   "source": [
    "Your ticker is almost identical to the previous one we made, or the one we got from `Tickers`, except for the fact that asking for `ticker['history']` is going to give you something different."
   ]
  },
  {
   "cell_type": "code",
   "execution_count": 12,
   "metadata": {
    "ExecuteTime": {
     "end_time": "2020-11-28T22:45:36.394980Z",
     "start_time": "2020-11-28T22:45:32.504331Z"
    }
   },
   "outputs": [
    {
     "data": {
      "text/html": [
       "<div>\n",
       "<style scoped>\n",
       "    .dataframe tbody tr th:only-of-type {\n",
       "        vertical-align: middle;\n",
       "    }\n",
       "\n",
       "    .dataframe tbody tr th {\n",
       "        vertical-align: top;\n",
       "    }\n",
       "\n",
       "    .dataframe thead th {\n",
       "        text-align: right;\n",
       "    }\n",
       "</style>\n",
       "<table border=\"1\" class=\"dataframe\">\n",
       "  <thead>\n",
       "    <tr style=\"text-align: right;\">\n",
       "      <th></th>\n",
       "      <th>Open</th>\n",
       "      <th>High</th>\n",
       "      <th>Low</th>\n",
       "      <th>Close</th>\n",
       "      <th>Volume</th>\n",
       "      <th>Dividends</th>\n",
       "      <th>Stock Splits</th>\n",
       "    </tr>\n",
       "    <tr>\n",
       "      <th>Datetime</th>\n",
       "      <th></th>\n",
       "      <th></th>\n",
       "      <th></th>\n",
       "      <th></th>\n",
       "      <th></th>\n",
       "      <th></th>\n",
       "      <th></th>\n",
       "    </tr>\n",
       "  </thead>\n",
       "  <tbody>\n",
       "    <tr>\n",
       "      <th>2020-11-27 09:30:00-05:00</th>\n",
       "      <td>1773.089966</td>\n",
       "      <td>1789.890015</td>\n",
       "      <td>1772.439941</td>\n",
       "      <td>1785.000000</td>\n",
       "      <td>119289</td>\n",
       "      <td>0</td>\n",
       "      <td>0</td>\n",
       "    </tr>\n",
       "    <tr>\n",
       "      <th>2020-11-27 09:45:00-05:00</th>\n",
       "      <td>1785.380005</td>\n",
       "      <td>1786.979980</td>\n",
       "      <td>1780.229980</td>\n",
       "      <td>1785.089966</td>\n",
       "      <td>50660</td>\n",
       "      <td>0</td>\n",
       "      <td>0</td>\n",
       "    </tr>\n",
       "    <tr>\n",
       "      <th>2020-11-27 10:00:00-05:00</th>\n",
       "      <td>1785.489990</td>\n",
       "      <td>1786.989990</td>\n",
       "      <td>1780.959961</td>\n",
       "      <td>1785.800049</td>\n",
       "      <td>50797</td>\n",
       "      <td>0</td>\n",
       "      <td>0</td>\n",
       "    </tr>\n",
       "    <tr>\n",
       "      <th>2020-11-27 10:15:00-05:00</th>\n",
       "      <td>1785.319946</td>\n",
       "      <td>1795.925049</td>\n",
       "      <td>1785.319946</td>\n",
       "      <td>1791.589966</td>\n",
       "      <td>72146</td>\n",
       "      <td>0</td>\n",
       "      <td>0</td>\n",
       "    </tr>\n",
       "    <tr>\n",
       "      <th>2020-11-27 10:30:00-05:00</th>\n",
       "      <td>1792.060059</td>\n",
       "      <td>1798.999878</td>\n",
       "      <td>1792.060059</td>\n",
       "      <td>1796.699951</td>\n",
       "      <td>48097</td>\n",
       "      <td>0</td>\n",
       "      <td>0</td>\n",
       "    </tr>\n",
       "    <tr>\n",
       "      <th>2020-11-27 10:45:00-05:00</th>\n",
       "      <td>1796.800049</td>\n",
       "      <td>1800.199951</td>\n",
       "      <td>1795.060059</td>\n",
       "      <td>1799.959961</td>\n",
       "      <td>56292</td>\n",
       "      <td>0</td>\n",
       "      <td>0</td>\n",
       "    </tr>\n",
       "    <tr>\n",
       "      <th>2020-11-27 11:00:00-05:00</th>\n",
       "      <td>1800.359985</td>\n",
       "      <td>1800.449951</td>\n",
       "      <td>1797.130005</td>\n",
       "      <td>1797.660034</td>\n",
       "      <td>41882</td>\n",
       "      <td>0</td>\n",
       "      <td>0</td>\n",
       "    </tr>\n",
       "    <tr>\n",
       "      <th>2020-11-27 11:15:00-05:00</th>\n",
       "      <td>1797.819946</td>\n",
       "      <td>1802.599976</td>\n",
       "      <td>1796.949951</td>\n",
       "      <td>1802.579956</td>\n",
       "      <td>60333</td>\n",
       "      <td>0</td>\n",
       "      <td>0</td>\n",
       "    </tr>\n",
       "    <tr>\n",
       "      <th>2020-11-27 11:30:00-05:00</th>\n",
       "      <td>1802.579956</td>\n",
       "      <td>1804.000000</td>\n",
       "      <td>1797.550049</td>\n",
       "      <td>1798.185059</td>\n",
       "      <td>45667</td>\n",
       "      <td>0</td>\n",
       "      <td>0</td>\n",
       "    </tr>\n",
       "    <tr>\n",
       "      <th>2020-11-27 11:45:00-05:00</th>\n",
       "      <td>1798.099976</td>\n",
       "      <td>1798.603027</td>\n",
       "      <td>1788.000000</td>\n",
       "      <td>1788.739990</td>\n",
       "      <td>47900</td>\n",
       "      <td>0</td>\n",
       "      <td>0</td>\n",
       "    </tr>\n",
       "    <tr>\n",
       "      <th>2020-11-27 12:00:00-05:00</th>\n",
       "      <td>1789.000000</td>\n",
       "      <td>1791.599976</td>\n",
       "      <td>1787.329956</td>\n",
       "      <td>1787.500000</td>\n",
       "      <td>36459</td>\n",
       "      <td>0</td>\n",
       "      <td>0</td>\n",
       "    </tr>\n",
       "    <tr>\n",
       "      <th>2020-11-27 12:15:00-05:00</th>\n",
       "      <td>1787.347534</td>\n",
       "      <td>1788.530029</td>\n",
       "      <td>1782.574951</td>\n",
       "      <td>1787.952759</td>\n",
       "      <td>46400</td>\n",
       "      <td>0</td>\n",
       "      <td>0</td>\n",
       "    </tr>\n",
       "    <tr>\n",
       "      <th>2020-11-27 12:30:00-05:00</th>\n",
       "      <td>1787.260010</td>\n",
       "      <td>1788.920044</td>\n",
       "      <td>1785.640015</td>\n",
       "      <td>1785.640015</td>\n",
       "      <td>45660</td>\n",
       "      <td>0</td>\n",
       "      <td>0</td>\n",
       "    </tr>\n",
       "    <tr>\n",
       "      <th>2020-11-27 12:45:00-05:00</th>\n",
       "      <td>1785.829956</td>\n",
       "      <td>1793.420044</td>\n",
       "      <td>1785.219971</td>\n",
       "      <td>1792.520020</td>\n",
       "      <td>97273</td>\n",
       "      <td>0</td>\n",
       "      <td>0</td>\n",
       "    </tr>\n",
       "    <tr>\n",
       "      <th>2020-11-27 13:00:00-05:00</th>\n",
       "      <td>1793.189941</td>\n",
       "      <td>1793.189941</td>\n",
       "      <td>1793.189941</td>\n",
       "      <td>1793.189941</td>\n",
       "      <td>46982</td>\n",
       "      <td>0</td>\n",
       "      <td>0</td>\n",
       "    </tr>\n",
       "  </tbody>\n",
       "</table>\n",
       "</div>"
      ],
      "text/plain": [
       "                                  Open         High          Low        Close  \\\n",
       "Datetime                                                                        \n",
       "2020-11-27 09:30:00-05:00  1773.089966  1789.890015  1772.439941  1785.000000   \n",
       "2020-11-27 09:45:00-05:00  1785.380005  1786.979980  1780.229980  1785.089966   \n",
       "2020-11-27 10:00:00-05:00  1785.489990  1786.989990  1780.959961  1785.800049   \n",
       "2020-11-27 10:15:00-05:00  1785.319946  1795.925049  1785.319946  1791.589966   \n",
       "2020-11-27 10:30:00-05:00  1792.060059  1798.999878  1792.060059  1796.699951   \n",
       "2020-11-27 10:45:00-05:00  1796.800049  1800.199951  1795.060059  1799.959961   \n",
       "2020-11-27 11:00:00-05:00  1800.359985  1800.449951  1797.130005  1797.660034   \n",
       "2020-11-27 11:15:00-05:00  1797.819946  1802.599976  1796.949951  1802.579956   \n",
       "2020-11-27 11:30:00-05:00  1802.579956  1804.000000  1797.550049  1798.185059   \n",
       "2020-11-27 11:45:00-05:00  1798.099976  1798.603027  1788.000000  1788.739990   \n",
       "2020-11-27 12:00:00-05:00  1789.000000  1791.599976  1787.329956  1787.500000   \n",
       "2020-11-27 12:15:00-05:00  1787.347534  1788.530029  1782.574951  1787.952759   \n",
       "2020-11-27 12:30:00-05:00  1787.260010  1788.920044  1785.640015  1785.640015   \n",
       "2020-11-27 12:45:00-05:00  1785.829956  1793.420044  1785.219971  1792.520020   \n",
       "2020-11-27 13:00:00-05:00  1793.189941  1793.189941  1793.189941  1793.189941   \n",
       "\n",
       "                           Volume  Dividends  Stock Splits  \n",
       "Datetime                                                    \n",
       "2020-11-27 09:30:00-05:00  119289          0             0  \n",
       "2020-11-27 09:45:00-05:00   50660          0             0  \n",
       "2020-11-27 10:00:00-05:00   50797          0             0  \n",
       "2020-11-27 10:15:00-05:00   72146          0             0  \n",
       "2020-11-27 10:30:00-05:00   48097          0             0  \n",
       "2020-11-27 10:45:00-05:00   56292          0             0  \n",
       "2020-11-27 11:00:00-05:00   41882          0             0  \n",
       "2020-11-27 11:15:00-05:00   60333          0             0  \n",
       "2020-11-27 11:30:00-05:00   45667          0             0  \n",
       "2020-11-27 11:45:00-05:00   47900          0             0  \n",
       "2020-11-27 12:00:00-05:00   36459          0             0  \n",
       "2020-11-27 12:15:00-05:00   46400          0             0  \n",
       "2020-11-27 12:30:00-05:00   45660          0             0  \n",
       "2020-11-27 12:45:00-05:00   97273          0             0  \n",
       "2020-11-27 13:00:00-05:00   46982          0             0  "
      ]
     },
     "execution_count": 12,
     "metadata": {},
     "output_type": "execute_result"
    }
   ],
   "source": [
    "df = ticker['history']\n",
    "df"
   ]
  },
  {
   "cell_type": "code",
   "execution_count": 18,
   "metadata": {
    "ExecuteTime": {
     "end_time": "2020-11-28T22:47:57.598181Z",
     "start_time": "2020-11-28T22:47:57.373947Z"
    }
   },
   "outputs": [
    {
     "data": {
      "image/png": "[encoded data removed]",
      "text/plain": [
       "<Figure size 800x575 with 2 Axes>"
      ]
     },
     "metadata": {},
     "output_type": "display_data"
    }
   ],
   "source": [
    "from mplfinance import plot as candlestick_plot  # pip install mplfinance if you don't have it already\n",
    "\n",
    "candlestick_plt(df)"
   ]
  },
  {
   "cell_type": "markdown",
   "metadata": {},
   "source": [
    "## Configure a Tickers instance"
   ]
  },
  {
   "cell_type": "markdown",
   "metadata": {},
   "source": [
    "Let's say we wanted all ticker instances that `Tickers` gives us to have their `history` be over a specific interval of time in the past (say, during the 2020 pandemic), at 5 day intervals..."
   ]
  },
  {
   "cell_type": "code",
   "execution_count": 60,
   "metadata": {
    "ExecuteTime": {
     "end_time": "2020-11-29T00:03:57.004550Z",
     "start_time": "2020-11-29T00:03:56.976486Z"
    }
   },
   "outputs": [
    {
     "data": {
      "text/plain": [
       "['DAL', 'AMZN', 'NFLX']"
      ]
     },
     "execution_count": 60,
     "metadata": {},
     "output_type": "execute_result"
    }
   ],
   "source": [
    "tickers = Tickers(ticker_symbols={'NFLX', 'AMZN', 'DAL'},  # demoing the fact that we can specify an explicit collection of ticker symbols\n",
    "                  history=dict(start='2020-03-01', end='2020-10-31', interval='5d'))\n",
    "list(tickers)"
   ]
  },
  {
   "cell_type": "markdown",
   "metadata": {},
   "source": [
    "See that indeed, all tickers given by `tickers` are configured according to our wishes."
   ]
  },
  {
   "cell_type": "code",
   "execution_count": 28,
   "metadata": {
    "ExecuteTime": {
     "end_time": "2020-11-28T23:02:17.646719Z",
     "start_time": "2020-11-28T23:02:17.607664Z"
    }
   },
   "outputs": [
    {
     "data": {
      "text/plain": [
       "Ticker('NFLX', history={'start': '2020-03-01', 'end': '2020-10-31', 'interval': '5d'})"
      ]
     },
     "execution_count": 28,
     "metadata": {},
     "output_type": "execute_result"
    }
   ],
   "source": [
    "tickers['NFLX']"
   ]
  },
  {
   "cell_type": "code",
   "execution_count": 29,
   "metadata": {
    "ExecuteTime": {
     "end_time": "2020-11-28T23:02:23.208820Z",
     "start_time": "2020-11-28T23:02:21.235269Z"
    }
   },
   "outputs": [
    {
     "data": {
      "image/png": "[encoded data removed]",
      "text/plain": [
       "<Figure size 800x575 with 2 Axes>"
      ]
     },
     "metadata": {},
     "output_type": "display_data"
    }
   ],
   "source": [
    "from mplfinance import plot as candlestick_plot  # pip install mplfinance if you don't have it already\n",
    "\n",
    "candlestick_plot(tickers['NFLX']['history'])"
   ]
  },
  {
   "cell_type": "code",
   "execution_count": 30,
   "metadata": {
    "ExecuteTime": {
     "end_time": "2020-11-28T23:03:00.006180Z",
     "start_time": "2020-11-28T23:02:57.720102Z"
    }
   },
   "outputs": [
    {
     "data": {
      "image/png": "[encoded data removed]",
      "text/plain": [
       "<Figure size 800x575 with 2 Axes>"
      ]
     },
     "metadata": {},
     "output_type": "display_data"
    }
   ],
   "source": [
    "candlestick_plot(tickers['AMZN']['history'])"
   ]
  },
  {
   "cell_type": "markdown",
   "metadata": {},
   "source": [
    "So Netflix and Amazon did well. \n",
    "\n",
    "Delta, less so:"
   ]
  },
  {
   "cell_type": "code",
   "execution_count": 31,
   "metadata": {
    "ExecuteTime": {
     "end_time": "2020-11-28T23:03:08.299375Z",
     "start_time": "2020-11-28T23:03:06.712564Z"
    }
   },
   "outputs": [
    {
     "data": {
      "image/png": "[encoded data removed]",
      "text/plain": [
       "<Figure size 800x575 with 2 Axes>"
      ]
     },
     "metadata": {},
     "output_type": "display_data"
    }
   ],
   "source": [
    "candlestick_plot(tickers['DAL']['history'])"
   ]
  },
  {
   "cell_type": "markdown",
   "metadata": {},
   "source": [
    "# Getting (only) specific information about tickers"
   ]
  },
  {
   "cell_type": "markdown",
   "metadata": {},
   "source": [
    "`Tickers` and `Ticker` are convenient if you want to analyze several aspects of a ticker since you can poke around the various keys (e.g. `info`, `history`, etc.). \n",
    "\n",
    "But if a particular analysis only needs one of these, it's more convenient to use `TickersWithSpecificInfo`, \n",
    "which gives you the same interface as `Tickers` (in fact, it's a subclass if `Tickers`), \n",
    "but fixes the key."
   ]
  },
  {
   "cell_type": "markdown",
   "metadata": {},
   "source": [
    "## Example: Historical data"
   ]
  },
  {
   "cell_type": "markdown",
   "metadata": {},
   "source": [
    "For example, if you're only interested in the historical data (a.k.a. the `'history'` key), you might do this:"
   ]
  },
  {
   "cell_type": "code",
   "execution_count": 43,
   "metadata": {
    "ExecuteTime": {
     "end_time": "2020-11-28T23:36:07.656010Z",
     "start_time": "2020-11-28T23:36:07.622264Z"
    }
   },
   "outputs": [
    {
     "data": {
      "text/plain": [
       "TickersWithSpecificInfo(ticker_symbols=<local_list>, specific_key=history, start=2008-01-01, end=2009-01-01, interval=1mo)"
      ]
     },
     "execution_count": 43,
     "metadata": {},
     "output_type": "execute_result"
    }
   ],
   "source": [
    "from invest import TickersWithSpecificInfo\n",
    "\n",
    "tickers = TickersWithSpecificInfo(specific_key='history', start='2008-01-01', end='2009-01-01', interval='1mo')  # 2008 historical data, month granularity\n",
    "tickers"
   ]
  },
  {
   "cell_type": "code",
   "execution_count": 46,
   "metadata": {
    "ExecuteTime": {
     "end_time": "2020-11-28T23:36:26.170475Z",
     "start_time": "2020-11-28T23:36:25.008545Z"
    }
   },
   "outputs": [
    {
     "data": {
      "image/png": "[encoded data removed]",
      "text/plain": [
       "<Figure size 800x575 with 2 Axes>"
      ]
     },
     "metadata": {},
     "output_type": "display_data"
    }
   ],
   "source": [
    "candlestick_plot(tickers['GOOG'])"
   ]
  },
  {
   "cell_type": "code",
   "execution_count": 49,
   "metadata": {
    "ExecuteTime": {
     "end_time": "2020-11-28T23:37:35.671216Z",
     "start_time": "2020-11-28T23:37:34.919990Z"
    }
   },
   "outputs": [
    {
     "data": {
      "image/png": "[encoded data removed]",
      "text/plain": [
       "<Figure size 800x575 with 2 Axes>"
      ]
     },
     "metadata": {},
     "output_type": "display_data"
    }
   ],
   "source": [
    "candlestick_plot(tickers['NFLX'])"
   ]
  },
  {
   "cell_type": "code",
   "execution_count": 44,
   "metadata": {
    "ExecuteTime": {
     "end_time": "2020-11-28T23:36:09.977374Z",
     "start_time": "2020-11-28T23:36:09.166146Z"
    }
   },
   "outputs": [
    {
     "data": {
      "image/png": "[encoded data removed]",
      "text/plain": [
       "<Figure size 800x575 with 2 Axes>"
      ]
     },
     "metadata": {},
     "output_type": "display_data"
    }
   ],
   "source": [
    "candlestick_plot(tickers['AMZN'])"
   ]
  },
  {
   "cell_type": "code",
   "execution_count": 48,
   "metadata": {
    "ExecuteTime": {
     "end_time": "2020-11-28T23:36:40.490526Z",
     "start_time": "2020-11-28T23:36:39.484474Z"
    }
   },
   "outputs": [
    {
     "data": {
      "image/png": "[encoded data removed]",
      "text/plain": [
       "<Figure size 800x575 with 2 Axes>"
      ]
     },
     "metadata": {},
     "output_type": "display_data"
    }
   ],
   "source": [
    "candlestick_plot(tickers['AAPL'])"
   ]
  },
  {
   "cell_type": "markdown",
   "metadata": {},
   "source": [
    "## Example: Specific `'info'` fields"
   ]
  },
  {
   "cell_type": "code",
   "execution_count": 58,
   "metadata": {
    "ExecuteTime": {
     "end_time": "2020-11-29T00:01:30.171134Z",
     "start_time": "2020-11-29T00:01:29.977703Z"
    }
   },
   "outputs": [
    {
     "data": {
      "text/plain": [
       "TickersWithSpecificInfo(ticker_symbols=<local_list>, specific_key=info, val_trans=<function <lambda> at 0x11c2374c0>)"
      ]
     },
     "execution_count": 58,
     "metadata": {},
     "output_type": "execute_result"
    }
   ],
   "source": [
    "from invest import TickersWithSpecificInfo\n",
    "\n",
    "the_info_that_i_want = ['shortName', 'sector', 'earningsQuarterlyGrowth', 'sharesShortPriorMonth']\n",
    "tickers = TickersWithSpecificInfo(specific_key='info', val_trans=lambda d: {k: d[k] for k in the_info_that_i_want}) \n",
    "tickers"
   ]
  },
  {
   "cell_type": "markdown",
   "metadata": {},
   "source": [
    "Now, you won't get the overwhelming amount of information you usually get with `info`:"
   ]
  },
  {
   "cell_type": "code",
   "execution_count": 59,
   "metadata": {
    "ExecuteTime": {
     "end_time": "2020-11-29T00:01:58.331120Z",
     "start_time": "2020-11-29T00:01:54.540901Z"
    }
   },
   "outputs": [
    {
     "data": {
      "text/plain": [
       "{'shortName': 'Apple Inc.',\n",
       " 'sector': 'Technology',\n",
       " 'earningsQuarterlyGrowth': -0.074,\n",
       " 'sharesShortPriorMonth': 83252522}"
      ]
     },
     "execution_count": 59,
     "metadata": {},
     "output_type": "execute_result"
    }
   ],
   "source": [
    "tickers['AAPL']"
   ]
  },
  {
   "cell_type": "code",
   "execution_count": 61,
   "metadata": {
    "ExecuteTime": {
     "end_time": "2020-11-29T00:04:40.253466Z",
     "start_time": "2020-11-29T00:04:40.223837Z"
    }
   },
   "outputs": [
    {
     "data": {
      "text/plain": [
       "TickersWithSpecificInfo(ticker_symbols=('FB', 'AMZN', 'AAPL', 'NFLX', 'GOOG'), specific_key=info, val_trans=<function <lambda> at 0x11c237a60>)"
      ]
     },
     "execution_count": 61,
     "metadata": {},
     "output_type": "execute_result"
    }
   ],
   "source": [
    "faang_tickers = ('FB', 'AMZN', 'AAPL', 'NFLX', 'GOOG')\n",
    "the_info_that_i_want = ['shortName', 'sector', 'earningsQuarterlyGrowth', 'sharesShortPriorMonth']\n",
    "tickers = TickersWithSpecificInfo(faang_tickers, specific_key='info', val_trans=lambda d: {k: d[k] for k in the_info_that_i_want}) \n",
    "tickers"
   ]
  },
  {
   "cell_type": "code",
   "execution_count": 62,
   "metadata": {
    "ExecuteTime": {
     "end_time": "2020-11-29T00:05:29.024995Z",
     "start_time": "2020-11-29T00:05:05.913173Z"
    }
   },
   "outputs": [
    {
     "data": {
      "text/html": [
       "<div>\n",
       "<style scoped>\n",
       "    .dataframe tbody tr th:only-of-type {\n",
       "        vertical-align: middle;\n",
       "    }\n",
       "\n",
       "    .dataframe tbody tr th {\n",
       "        vertical-align: top;\n",
       "    }\n",
       "\n",
       "    .dataframe thead th {\n",
       "        text-align: right;\n",
       "    }\n",
       "</style>\n",
       "<table border=\"1\" class=\"dataframe\">\n",
       "  <thead>\n",
       "    <tr style=\"text-align: right;\">\n",
       "      <th></th>\n",
       "      <th>shortName</th>\n",
       "      <th>sector</th>\n",
       "      <th>earningsQuarterlyGrowth</th>\n",
       "      <th>sharesShortPriorMonth</th>\n",
       "    </tr>\n",
       "  </thead>\n",
       "  <tbody>\n",
       "    <tr>\n",
       "      <th>0</th>\n",
       "      <td>Facebook, Inc.</td>\n",
       "      <td>Communication Services</td>\n",
       "      <td>0.288</td>\n",
       "      <td>21187652</td>\n",
       "    </tr>\n",
       "    <tr>\n",
       "      <th>1</th>\n",
       "      <td>Amazon.com, Inc.</td>\n",
       "      <td>Consumer Cyclical</td>\n",
       "      <td>1.967</td>\n",
       "      <td>2509939</td>\n",
       "    </tr>\n",
       "    <tr>\n",
       "      <th>2</th>\n",
       "      <td>Apple Inc.</td>\n",
       "      <td>Technology</td>\n",
       "      <td>-0.074</td>\n",
       "      <td>83252522</td>\n",
       "    </tr>\n",
       "    <tr>\n",
       "      <th>3</th>\n",
       "      <td>Netflix, Inc.</td>\n",
       "      <td>Communication Services</td>\n",
       "      <td>0.187</td>\n",
       "      <td>9416477</td>\n",
       "    </tr>\n",
       "    <tr>\n",
       "      <th>4</th>\n",
       "      <td>Alphabet Inc.</td>\n",
       "      <td>Communication Services</td>\n",
       "      <td>0.591</td>\n",
       "      <td>2381334</td>\n",
       "    </tr>\n",
       "  </tbody>\n",
       "</table>\n",
       "</div>"
      ],
      "text/plain": [
       "          shortName                  sector  earningsQuarterlyGrowth  \\\n",
       "0    Facebook, Inc.  Communication Services                    0.288   \n",
       "1  Amazon.com, Inc.       Consumer Cyclical                    1.967   \n",
       "2        Apple Inc.              Technology                   -0.074   \n",
       "3     Netflix, Inc.  Communication Services                    0.187   \n",
       "4     Alphabet Inc.  Communication Services                    0.591   \n",
       "\n",
       "   sharesShortPriorMonth  \n",
       "0               21187652  \n",
       "1                2509939  \n",
       "2               83252522  \n",
       "3                9416477  \n",
       "4                2381334  "
      ]
     },
     "execution_count": 62,
     "metadata": {},
     "output_type": "execute_result"
    }
   ],
   "source": [
    "info_df = pd.DataFrame(list(tickers.values()))\n",
    "info_df"
   ]
  },
  {
   "cell_type": "markdown",
   "metadata": {},
   "source": [
    "# Notes"
   ]
  },
  {
   "cell_type": "markdown",
   "metadata": {},
   "source": [
    "- Though `Tickers` allows you to deal with a collection of tickers, it does so (for time being) by calling yahoo's API for each individual ticker. The API does, on the other hand, contain some bulk tickers routes which we intend to integrate."
   ]
  },
  {
   "cell_type": "code",
   "execution_count": null,
   "metadata": {},
   "outputs": [],
   "source": []
  },
  {
   "cell_type": "code",
   "execution_count": null,
   "metadata": {},
   "outputs": [],
   "source": []
  },
  {
   "cell_type": "code",
   "execution_count": null,
   "metadata": {},
   "outputs": [],
   "source": []
  }
 ],
 "metadata": {
  "kernelspec": {
   "display_name": "Python 3",
   "language": "python",
   "name": "python3"
  },
  "language_info": {
   "codemirror_mode": {
    "name": "ipython",
    "version": 3
   },
   "file_extension": ".py",
   "mimetype": "text/x-python",
   "name": "python",
   "nbconvert_exporter": "python",
   "pygments_lexer": "ipython3",
   "version": "3.8.6"
  },
  "latex_envs": {
   "LaTeX_envs_menu_present": true,
   "autoclose": false,
   "autocomplete": true,
   "bibliofile": "biblio.bib",
   "cite_by": "apalike",
   "current_citInitial": 1,
   "eqLabelWithNumbers": true,
   "eqNumInitial": 1,
   "hotkeys": {
    "equation": "Ctrl-E",
    "itemize": "Ctrl-I"
   },
   "labels_anchors": false,
   "latex_user_defs": false,
   "report_style_numbering": false,
   "user_envs_cfg": false
  },
  "toc": {
   "base_numbering": 1,
   "nav_menu": {},
   "number_sections": true,
   "sideBar": false,
   "skip_h1_title": false,
   "title_cell": "Table of Contents",
   "title_sidebar": "Contents",
   "toc_cell": true,
   "toc_position": {
    "height": "100px",
    "left": "87px",
    "top": "110px",
    "width": "1074px"
   },
   "toc_section_display": true,
   "toc_window_display": true
  }
 },
 "nbformat": 4,
 "nbformat_minor": 4
}
